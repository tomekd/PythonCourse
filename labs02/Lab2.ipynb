{
 "cells": [
  {
   "cell_type": "markdown",
   "metadata": {
    "slideshow": {
     "slide_type": "slide"
    }
   },
   "source": [
    "# Podstawy Python cz. 3 (ostatnia)\n",
    "\n",
    "## 10 stycznia 2019\n"
   ]
  },
  {
   "cell_type": "markdown",
   "metadata": {
    "slideshow": {
     "slide_type": "slide"
    }
   },
   "source": [
    "Plan na dzisiejsze zajęcia:\n",
    " * Obsługa plików\n",
    " * Analiza danych w drudiej"
   ]
  },
  {
   "cell_type": "markdown",
   "metadata": {
    "slideshow": {
     "slide_type": "slide"
    }
   },
   "source": [
    "### Praca z plikami\n",
    " * Funkcja `open` zwraca obiekt - plik (`file`)\n",
    " * obiekt zwracany przez open pozwala za odczyt i zapis do tego pliku.\n"
   ]
  },
  {
   "cell_type": "code",
   "execution_count": 3,
   "metadata": {
    "slideshow": {
     "slide_type": "slide"
    }
   },
   "outputs": [
    {
     "name": "stdout",
     "output_type": "stream",
     "text": [
      "Zawartość pliku https://github.com/tomekd/PythonCourse\n",
      "\n"
     ]
    }
   ],
   "source": [
    "dane = open(\"dane.txt\")\n",
    "print('Zawartość pliku', dane.read())\n",
    "dane.close()"
   ]
  },
  {
   "cell_type": "code",
   "execution_count": 4,
   "metadata": {
    "slideshow": {
     "slide_type": "slide"
    }
   },
   "outputs": [
    {
     "name": "stdout",
     "output_type": "stream",
     "text": [
      "Zawartość pliku https://github.com/tomekd/PythonCourse\n",
      "\n",
      "Zawartość pliku \n"
     ]
    }
   ],
   "source": [
    "dane = open(\"dane.txt\")\n",
    "print('Zawartość pliku:', dane.read())\n",
    "print('Zawartość pliku:', dane.read())\n",
    "dane.close()"
   ]
  },
  {
   "cell_type": "code",
   "execution_count": 6,
   "metadata": {
    "slideshow": {
     "slide_type": "slide"
    }
   },
   "outputs": [
    {
     "name": "stdout",
     "output_type": "stream",
     "text": [
      "Zawartość pliku: https://github.com/tomekd/PythonCourse\n",
      "\n",
      "Zawartość pliku: https://github.com/tomekd/PythonCourse\n",
      "\n"
     ]
    }
   ],
   "source": [
    "dane = open(\"dane.txt\")\n",
    "print('Zawartość pliku:', dane.read())\n",
    "dane.seek(0)\n",
    "print('Zawartość pliku:', dane.read())\n",
    "dane.close()"
   ]
  },
  {
   "cell_type": "code",
   "execution_count": 10,
   "metadata": {
    "slideshow": {
     "slide_type": "slide"
    }
   },
   "outputs": [
    {
     "name": "stdout",
     "output_type": "stream",
     "text": [
      "1 Litwo! Ojczyzno moja! ty jesteÅ› jak zdrowie; 46\n",
      "2 Ile ciÄ™ trzeba ceniÄ‡, ten tylko siÄ™ dowie, 46\n",
      "3 Kto ciÄ™ straciÅ‚. DziÅ› piÄ™knoÅ›Ä‡ twÄ… w caÅ‚ej ozdobie 59\n",
      "4 WidzÄ™ i opisujÄ™, bo tÄ™skniÄ™ po tobie. 42\n"
     ]
    }
   ],
   "source": [
    "inwokacja = open(\"inwokacja.txt\")\n",
    "i = 1\n",
    "for line in inwokacja:\n",
    "    print(i, line.strip(), len(line))\n",
    "    i += 1\n",
    "inwokacja.close()"
   ]
  },
  {
   "cell_type": "code",
   "execution_count": 11,
   "metadata": {
    "slideshow": {
     "slide_type": "slide"
    }
   },
   "outputs": [
    {
     "name": "stdout",
     "output_type": "stream",
     "text": [
      "1 Litwo! Ojczyzno moja! ty jesteś jak zdrowie; 45\n",
      "2 Ile cię trzeba cenić, ten tylko się dowie, 43\n",
      "3 Kto cię stracił. Dziś piękność twą w całej ozdobie 51\n",
      "4 Widzę i opisuję, bo tęsknię po tobie. 38\n"
     ]
    }
   ],
   "source": [
    "inwokacja = open(\"inwokacja.txt\", encoding='utf8')\n",
    "i = 1\n",
    "for line in inwokacja:\n",
    "    print(i, line.strip(), len(line))\n",
    "    i += 1\n",
    "inwokacja.close()"
   ]
  },
  {
   "cell_type": "code",
   "execution_count": 12,
   "metadata": {
    "slideshow": {
     "slide_type": "slide"
    }
   },
   "outputs": [
    {
     "name": "stdout",
     "output_type": "stream",
     "text": [
      "1 Litwo! Ojczyzno moja! ty jesteś jak zdrowie; 45\n",
      "2 Ile cię trzeba cenić, ten tylko się dowie, 43\n",
      "3 Kto cię stracił. Dziś piękność twą w całej ozdobie 51\n",
      "4 Widzę i opisuję, bo tęsknię po tobie. 38\n"
     ]
    }
   ],
   "source": [
    "with open(\"inwokacja.txt\", encoding='utf8') as inwokacja:\n",
    "    i = 1\n",
    "    for line in inwokacja:\n",
    "        print(i, line.strip(), len(line))\n",
    "        i += 1"
   ]
  },
  {
   "cell_type": "code",
   "execution_count": 47,
   "metadata": {
    "slideshow": {
     "slide_type": "slide"
    }
   },
   "outputs": [],
   "source": [
    "import csv\n",
    "\n",
    "with open(\"gapminder.csv\") as data:\n",
    "    gap = list(csv.DictReader(data))"
   ]
  },
  {
   "cell_type": "code",
   "execution_count": 48,
   "metadata": {},
   "outputs": [
    {
     "data": {
      "text/plain": [
       "OrderedDict([('Country', 'Afghanistan'),\n",
       "             ('female_BMI', '21.07402'),\n",
       "             ('male_BMI', '20.62058'),\n",
       "             ('gdp', '1311.0'),\n",
       "             ('population', '26528741.0'),\n",
       "             ('under5mortality', '110.4'),\n",
       "             ('life_expectancy', '52.8'),\n",
       "             ('fertility', '6.2')])"
      ]
     },
     "execution_count": 48,
     "metadata": {},
     "output_type": "execute_result"
    }
   ],
   "source": [
    "gap[0]"
   ]
  },
  {
   "cell_type": "code",
   "execution_count": 49,
   "metadata": {},
   "outputs": [
    {
     "data": {
      "text/plain": [
       "OrderedDict([('Country', 'Japan'),\n",
       "             ('female_BMI', '21.87088'),\n",
       "             ('male_BMI', '23.50004'),\n",
       "             ('gdp', '34800.0'),\n",
       "             ('population', '127317900.0'),\n",
       "             ('under5mortality', '3.4'),\n",
       "             ('life_expectancy', '82.5'),\n",
       "             ('fertility', '1.34')])"
      ]
     },
     "execution_count": 49,
     "metadata": {},
     "output_type": "execute_result"
    }
   ],
   "source": [
    "def le(data):\n",
    "    return float(data['life_expectancy'])\n",
    "max(gap, key=le)"
   ]
  },
  {
   "cell_type": "markdown",
   "metadata": {
    "slideshow": {
     "slide_type": "slide"
    }
   },
   "source": [
    "### Instalacja paczek -> Pycharm"
   ]
  }
 ],
 "metadata": {
  "celltoolbar": "Slideshow",
  "kernelspec": {
   "display_name": "Python 3",
   "language": "python",
   "name": "python3"
  },
  "language_info": {
   "codemirror_mode": {
    "name": "ipython",
    "version": 3
   },
   "file_extension": ".py",
   "mimetype": "text/x-python",
   "name": "python",
   "nbconvert_exporter": "python",
   "pygments_lexer": "ipython3",
   "version": "3.7.4"
  }
 },
 "nbformat": 4,
 "nbformat_minor": 2
}
