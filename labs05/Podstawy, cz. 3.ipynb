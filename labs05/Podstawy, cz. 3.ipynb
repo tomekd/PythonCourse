{
 "cells": [
  {
   "cell_type": "markdown",
   "metadata": {
    "slideshow": {
     "slide_type": "slide"
    }
   },
   "source": [
    "# Python: podstawy, cz. 3 (ostatnia)\n",
    "\n",
    "&nbsp;\n",
    "## 9 lutego 2019"
   ]
  },
  {
   "cell_type": "markdown",
   "metadata": {
    "slideshow": {
     "slide_type": "slide"
    }
   },
   "source": [
    "## Listy składane"
   ]
  },
  {
   "cell_type": "code",
   "execution_count": 13,
   "metadata": {
    "slideshow": {
     "slide_type": "slide"
    }
   },
   "outputs": [
    {
     "name": "stdout",
     "output_type": "stream",
     "text": [
      "[2, 2, 2, 2, 3, 5]\n"
     ]
    }
   ],
   "source": [
    "elems = [10, 50, 40, 30, 100, 19990]\n",
    "lens = []\n",
    "for elem in elems:\n",
    "    lens.append(len(str(elem)))\n",
    "print(lens)"
   ]
  },
  {
   "cell_type": "code",
   "execution_count": 14,
   "metadata": {
    "slideshow": {
     "slide_type": "slide"
    }
   },
   "outputs": [
    {
     "name": "stdout",
     "output_type": "stream",
     "text": [
      "[2, 2, 2, 2, 3, 5]\n"
     ]
    }
   ],
   "source": [
    "elems = [10, 50, 40, 30, 100, 19990]\n",
    "lens = [len(str(elem)) for elem in elems]\n",
    "print(lens)"
   ]
  },
  {
   "cell_type": "code",
   "execution_count": 20,
   "metadata": {
    "slideshow": {
     "slide_type": "slide"
    }
   },
   "outputs": [
    {
     "name": "stdout",
     "output_type": "stream",
     "text": [
      "[2, 3, 5]\n"
     ]
    }
   ],
   "source": [
    "elems = [10, 50, 40, 30, 100, 19990]\n",
    "lens = [len(str(elem)) for elem in elems \n",
    "        if str(elem)[0] == '1']\n",
    "print(lens)"
   ]
  },
  {
   "cell_type": "code",
   "execution_count": 22,
   "metadata": {
    "slideshow": {
     "slide_type": "slide"
    }
   },
   "outputs": [
    {
     "name": "stdout",
     "output_type": "stream",
     "text": [
      "[2, 0, 0, 0, 3, 5]\n"
     ]
    }
   ],
   "source": [
    "elems = [10, 50, 40, 30, 100, 19990]\n",
    "lens = [len(str(elem)) \n",
    "        if str(elem)[0] == '1' else 0\n",
    "        for elem in elems]\n",
    "print(lens)"
   ]
  },
  {
   "cell_type": "code",
   "execution_count": 25,
   "metadata": {
    "slideshow": {
     "slide_type": "slide"
    }
   },
   "outputs": [
    {
     "name": "stdout",
     "output_type": "stream",
     "text": [
      "[10, 14, [16, 18.0]] 2\n"
     ]
    }
   ],
   "source": [
    "def times(elem, n=2):\n",
    "    if isinstance(elem, list):\n",
    "        return [times(item, n) for item in elem]\n",
    "    elif isinstance(elem, float) or isinstance(elem, int):\n",
    "        return elem * n\n",
    "    else:\n",
    "        raise ValueError(\"błąd\")\n",
    "\n",
    "print(times([5, 7, [8, 9.0]]), 2)"
   ]
  },
  {
   "cell_type": "markdown",
   "metadata": {
    "slideshow": {
     "slide_type": "slide"
    }
   },
   "source": [
    "## OOP: Programowanie obiektowe"
   ]
  },
  {
   "cell_type": "code",
   "execution_count": 37,
   "metadata": {
    "slideshow": {
     "slide_type": "slide"
    }
   },
   "outputs": [],
   "source": [
    "class Sentence:\n",
    "    pass\n",
    "sentence = Sentence()"
   ]
  },
  {
   "cell_type": "code",
   "execution_count": 38,
   "metadata": {
    "slideshow": {
     "slide_type": "slide"
    }
   },
   "outputs": [],
   "source": [
    "class Sentence:\n",
    "    def __init__(self, text):\n",
    "        self.text = text\n",
    "sentence = Sentence(\"This is a little test.\")"
   ]
  },
  {
   "cell_type": "code",
   "execution_count": 41,
   "metadata": {
    "slideshow": {
     "slide_type": "slide"
    }
   },
   "outputs": [
    {
     "name": "stdout",
     "output_type": "stream",
     "text": [
      "False\n",
      "text: This is a little test.\n"
     ]
    }
   ],
   "source": [
    "sent_1 = Sentence(\"This is a little test.\")\n",
    "sent_2 = Sentence(\"This is a little test.\")\n",
    "print(sent_1 == sent_2)\n",
    "print(\"text: {}\".format(sent_1.text))"
   ]
  },
  {
   "cell_type": "code",
   "execution_count": 42,
   "metadata": {
    "slideshow": {
     "slide_type": "slide"
    }
   },
   "outputs": [
    {
     "name": "stdout",
     "output_type": "stream",
     "text": [
      "Liczba słów: 4\n"
     ]
    }
   ],
   "source": [
    "class Sentence:\n",
    "    def __init__(self, text):\n",
    "        self.text = text\n",
    "    def word_number(self):\n",
    "        return len(self.text.split(' '))\n",
    "    \n",
    "    def is_question(self):\n",
    "        return self.text[-1] == \"?\"\n",
    "    \n",
    "sent = Sentence(\"To jest test .\")\n",
    "print(\"Liczba słów: {}\".format(sent.word_number()))"
   ]
  },
  {
   "cell_type": "code",
   "execution_count": 43,
   "metadata": {
    "slideshow": {
     "slide_type": "slide"
    }
   },
   "outputs": [
    {
     "name": "stdout",
     "output_type": "stream",
     "text": [
      "6500\n"
     ]
    }
   ],
   "source": [
    "class Employee:\n",
    "    def __init__(self, name, salary):\n",
    "        self.name = name\n",
    "        self.salary = salary\n",
    "    def raise_salary(self, amount):\n",
    "        self.salary += amount\n",
    "        \n",
    "employee = Employee(\"Franek\", 6000)\n",
    "employee.raise_salary(500)\n",
    "print(employee.salary)"
   ]
  },
  {
   "cell_type": "code",
   "execution_count": 49,
   "metadata": {
    "slideshow": {
     "slide_type": "slide"
    }
   },
   "outputs": [],
   "source": [
    "class Manager(Employee):\n",
    "    def __init__(self, name, salary, team):\n",
    "        super().__init__(name, salary)\n",
    "        self.team = team\n",
    "\n",
    "man = Manager(\"Joanna\", 6000, \"super-team\")"
   ]
  },
  {
   "cell_type": "code",
   "execution_count": null,
   "metadata": {},
   "outputs": [],
   "source": []
  }
 ],
 "metadata": {
  "celltoolbar": "Slideshow",
  "kernelspec": {
   "display_name": "Python 3",
   "language": "python",
   "name": "python3"
  },
  "language_info": {
   "codemirror_mode": {
    "name": "ipython",
    "version": 3
   },
   "file_extension": ".py",
   "mimetype": "text/x-python",
   "name": "python",
   "nbconvert_exporter": "python",
   "pygments_lexer": "ipython3",
   "version": "3.7.4"
  }
 },
 "nbformat": 4,
 "nbformat_minor": 2
}
